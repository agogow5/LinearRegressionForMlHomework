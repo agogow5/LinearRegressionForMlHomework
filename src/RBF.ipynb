{
 "cells": [
  {
   "cell_type": "code",
   "execution_count": 1,
   "metadata": {},
   "outputs": [],
   "source": [
    "import pandas as pd\n",
    "import numpy as np\n",
    "\n",
    "csv_path = '../raw_data/voice.csv'\n",
    "raw_data = pd.read_csv(csv_path)"
   ]
  },
  {
   "cell_type": "code",
   "execution_count": 2,
   "metadata": {},
   "outputs": [
    {
     "name": "stdout",
     "output_type": "stream",
     "text": [
      "<class 'pandas.core.frame.DataFrame'>\n",
      "RangeIndex: 3168 entries, 0 to 3167\n",
      "Data columns (total 3 columns):\n",
      "meanfun    3168 non-null float64\n",
      "IQR        3168 non-null float64\n",
      "label      3168 non-null int32\n",
      "dtypes: float64(2), int32(1)\n",
      "memory usage: 62.0 KB\n"
     ]
    }
   ],
   "source": [
    "from sklearn.preprocessing import LabelEncoder\n",
    "bdata = raw_data.copy()[['meanfun', 'IQR', 'label']]\n",
    "# bdata = raw_data.copy()[['maxfun', 'modindx', 'label']]\n",
    "encoder = LabelEncoder()\n",
    "bdata_label = bdata[\"label\"]\n",
    "bdata_label_encoded = encoder.fit_transform(bdata_label)\n",
    "\n",
    "bdata.drop([\"label\"], axis=1, inplace=True)\n",
    "bdata[\"label\"] = bdata_label_encoded\n",
    "bdata.info()"
   ]
  },
  {
   "cell_type": "code",
   "execution_count": 3,
   "metadata": {},
   "outputs": [],
   "source": [
    "from sklearn.model_selection import train_test_split\n",
    "train_set, test_set = train_test_split(bdata, test_size=0.2, random_state=20)\n",
    "\n",
    "train_set = np.array(train_set)\n",
    "test_set = np.array(test_set)\n",
    "\n",
    "train_data, train_label = np.split(train_set, indices_or_sections=(2,),axis=1)\n",
    "test_data, test_label = np.split(test_set, indices_or_sections=(2,),axis=1)"
   ]
  },
  {
   "cell_type": "code",
   "execution_count": 4,
   "metadata": {},
   "outputs": [],
   "source": [
    "gamma = 0.3"
   ]
  },
  {
   "cell_type": "code",
   "execution_count": 5,
   "metadata": {},
   "outputs": [],
   "source": [
    "def landmark_fetch(pos):\n",
    "#     delta = 0.5\n",
    "#     my_np = np.array(bdata)[:, pos]\n",
    "#     landmark =[np.percentile(my_np, i*delta) for i in range(int(100/delta) + 1)]\n",
    "    landmark = train_data[::50, pos]\n",
    "#     landmark = [np.percentile(my_np, 0), np.percentile(my_np, 20), np.percentile(my_np, 40), np.percentile(my_np, 60), np.percentile(my_np, 80), np.percentile(my_np, 100)]\n",
    "    return landmark\n",
    "# landmark = [np.percentile(myarr[:, 0], 20)]"
   ]
  },
  {
   "cell_type": "code",
   "execution_count": 6,
   "metadata": {},
   "outputs": [],
   "source": [
    "def RBF(myarr):\n",
    "    cp1 = basicRBF(myarr[:, 0], landmark_fetch(0))\n",
    "    cp2 = basicRBF(myarr[:, 1], landmark_fetch(1))\n",
    "    return np.c_[myarr[:, 0], 200*np.power(myarr[:, 0], 1/2), 100*np.power(myarr[:, 0], 1/3), 100*1./(1+np.exp(-myarr[:, 0])), 100*np.tanh(myarr[:, 0]), 20*cp1,\n",
    "                 myarr[:, 1], 200*np.power(myarr[:, 1], 1/2), 100*np.power(myarr[:, 1], 1/3), 100*1./(1+np.exp(-myarr[:, 1])), 100*np.tanh(myarr[:, 1]), 20*cp2]\n",
    "\n",
    "#     return np.c_[myarr[:, 0], cp1, myarr[:, 1], cp2]\n",
    "\n",
    "\n",
    "#     return np.c_[myarr[:, 0], np.power(myarr[:, 0], 2),\n",
    "#                  myarr[:, 1], np.power(myarr[:, 1], 2)]\n",
    "    return np.c_[myarr[:, 0], \n",
    "                 myarr[:, 1]]\n",
    "\n",
    "def basicRBF(myarr, landmark):\n",
    "    ft = np.exp(-gamma * np.square(myarr - landmark[0]))\n",
    "    for i in range(len(landmark) - 1):\n",
    "        ft = np.c_[ft, np.exp(-gamma * np.square(myarr - landmark[i+1]))]\n",
    "    \n",
    "#     ft = np.c_[ft, np.exp(-gamma * np.square(myarr[:, 0] - np.percentile(myarr[:, 0], 20)))]\n",
    "#     ft = np.c_[ft, np.exp(-gamma * np.square(myarr[:, 0] - np.percentile(myarr[:, 0], 40)))]\n",
    "#     ft = np.c_[ft, np.exp(-gamma * np.square(myarr[:, 0] - np.percentile(myarr[:, 0], 60)))]\n",
    "#     ft = np.c_[ft, np.exp(-gamma * np.square(myarr[:, 0] - np.percentile(myarr[:, 0], 80)))]\n",
    "#     ft = np.c_[ft, np.exp(-gamma * np.square(myarr[:, 0] - np.percentile(myarr[:, 0], 100)))]\n",
    "#     for i in range(5):\n",
    "#         ft = np.c_[ft, np.exp(-gamma * np.square(myarr[:, 0] - np.percentile(myarr[:, 0], 20*(i+1))))]\n",
    "#     ft2 = \n",
    "#     ft3 = np.exp(-gamma * np.square(myarr[:, 1] - np.percentile(myarr[:, 1], 20)))\n",
    "#     ft4 = np.exp(-gamma * np.square(myarr[:, 1] - np.percentile(myarr[:, 1], 100)))\n",
    "    return ft"
   ]
  },
  {
   "cell_type": "code",
   "execution_count": 7,
   "metadata": {},
   "outputs": [],
   "source": [
    "# train_ft1 = np.exp(-gamma * (train_data[:, 0] - np.percentile(train_data[:, 0], 25)))\n",
    "# train_ft2 = np.exp(-gamma * (train_data[:, 0] - np.percentile(train_data[:, 0], 75)))\n",
    "# train_ft3 = np.exp(-gamma * (train_data[:, 1] - np.percentile(train_data[:, 1], 25)))\n",
    "# train_ft4 = np.exp(-gamma * (train_data[:, 1] - np.percentile(train_data[:, 1], 75)))\n",
    "# train_data_ = np.c_[train_ft1, train_ft2, train_ft3, train_ft4]\n",
    "train_data_ = RBF(train_data)\n",
    "test_data_ = RBF(test_data)"
   ]
  },
  {
   "cell_type": "code",
   "execution_count": 8,
   "metadata": {},
   "outputs": [],
   "source": [
    "# test_ft1 = np.exp(-gamma * (test_data[:, 0] - np.percentile(test_data[:, 0], 25)))\n",
    "# test_ft2 = np.exp(-gamma * (test_data[:, 0] - np.percentile(test_data[:, 0], 75)))\n",
    "# test_ft3 = np.exp(-gamma * (test_data[:, 1] - np.percentile(test_data[:, 1], 25)))\n",
    "# test_ft4 = np.exp(-gamma * (test_data[:, 1] - np.percentile(test_data[:, 1], 75)))\n",
    "# test_data_ = np.c_[test_ft1, test_ft2, test_ft3, test_ft4]"
   ]
  },
  {
   "cell_type": "code",
   "execution_count": 9,
   "metadata": {},
   "outputs": [
    {
     "data": {
      "text/plain": [
       "LogisticRegression(C=1.0, class_weight=None, dual=False, fit_intercept=True,\n",
       "          intercept_scaling=1, max_iter=100, multi_class='warn',\n",
       "          n_jobs=None, penalty='l2', random_state=None, solver='liblinear',\n",
       "          tol=0.0001, verbose=0, warm_start=False)"
      ]
     },
     "execution_count": 9,
     "metadata": {},
     "output_type": "execute_result"
    }
   ],
   "source": [
    "# from utils import LogisticRegression\n",
    "# classifier = LogisticRegression()\n",
    "# classifier.fit(train_data_,train_label.ravel())\n",
    "\n",
    "# from utils import RandomForest\n",
    "# classifier = RandomForest(n_estimators=500, max_depth=16)\n",
    "# classifier.fit(train_data_,train_label.ravel())\n",
    "\n",
    "#========================================================================\n",
    "\n",
    "from sklearn.linear_model import LogisticRegression\n",
    "classifier = LogisticRegression(solver='liblinear')\n",
    "classifier.fit(train_data_,train_label.ravel())\n",
    "\n",
    "# from sklearn.tree import DecisionTreeClassifier \n",
    "# classifier = DecisionTreeClassifier(max_depth=5) \n",
    "# # classifier = DecisionTreeClassifier()\n",
    "# classifier.fit(train_data_,train_label.ravel())\n",
    "\n",
    "\n",
    "# from sklearn.ensemble import RandomForestClassifier \n",
    "# # classifier = RandomForestClassifier(n_estimators=500, n_jobs=-1) \n",
    "# classifier = RandomForestClassifier(n_estimators=500, max_leaf_nodes=16, n_jobs=-1) \n",
    "# classifier.fit(train_data_,train_label.ravel())"
   ]
  },
  {
   "cell_type": "code",
   "execution_count": 10,
   "metadata": {},
   "outputs": [
    {
     "data": {
      "text/plain": [
       "array([[307,   8],\n",
       "       [ 11, 308]], dtype=int64)"
      ]
     },
     "execution_count": 10,
     "metadata": {},
     "output_type": "execute_result"
    }
   ],
   "source": [
    "from sklearn.metrics import confusion_matrix\n",
    "train_hat = classifier.predict(train_data_) # 训练集的预测标签\n",
    "test_hat = classifier.predict(test_data_) # 测试集的预测标签 \n",
    "confusion_matrix(test_label.ravel(), test_hat)\n",
    "# print(test_data_pred)"
   ]
  },
  {
   "cell_type": "code",
   "execution_count": 11,
   "metadata": {},
   "outputs": [
    {
     "name": "stdout",
     "output_type": "stream",
     "text": [
      "              precision    recall  f1-score   support\n",
      "\n",
      "         0.0       0.97      0.97      0.97       315\n",
      "         1.0       0.97      0.97      0.97       319\n",
      "\n",
      "   micro avg       0.97      0.97      0.97       634\n",
      "   macro avg       0.97      0.97      0.97       634\n",
      "weighted avg       0.97      0.97      0.97       634\n",
      "\n"
     ]
    }
   ],
   "source": [
    "from sklearn.metrics import classification_report\n",
    "print(classification_report(test_label.ravel(), test_hat))"
   ]
  },
  {
   "cell_type": "code",
   "execution_count": 12,
   "metadata": {},
   "outputs": [
    {
     "name": "stdout",
     "output_type": "stream",
     "text": [
      "训练集： 0.9656669297553275\n",
      "测试集： 0.9700315457413249\n"
     ]
    }
   ],
   "source": [
    "from sklearn.metrics import accuracy_score\n",
    "print(\"训练集：\",  accuracy_score(train_label,train_hat))\n",
    "print(\"测试集：\", accuracy_score(test_label,test_hat))"
   ]
  },
  {
   "cell_type": "code",
   "execution_count": 13,
   "metadata": {},
   "outputs": [],
   "source": [
    "x1_min, x1_max = test_data[:, 0].min(), test_data[:, 0].max()  # 第0列的范围\n",
    "x2_min, x2_max = test_data[:, 1].min(), test_data[:, 1].max()  # 第1列的范围\n",
    "x1, x2 = np.mgrid[x1_min:x1_max:200j, x2_min:x2_max:200j]  # 生成网格采样点\n",
    "grid_test = np.stack((x1.flat, x2.flat), axis=1)  # 测试点\n",
    "# print(grid_test)\n",
    "grid_test_rbf = RBF(grid_test)\n",
    "grid_hat = classifier.predict(grid_test_rbf)\n",
    "grid_hat = grid_hat.reshape(np.shape(x1))\n",
    "# print(grid_hat)"
   ]
  },
  {
   "cell_type": "code",
   "execution_count": 14,
   "metadata": {},
   "outputs": [
    {
     "data": {
      "text/plain": [
       "<Figure size 640x480 with 1 Axes>"
      ]
     },
     "metadata": {},
     "output_type": "display_data"
    }
   ],
   "source": [
    "import matplotlib.pyplot as plt\n",
    "import matplotlib as mpl\n",
    "\n",
    "\n",
    "mpl.rcParams['font.sans-serif'] = [u'SimHei']\n",
    "mpl.rcParams['axes.unicode_minus'] = False\n",
    " \n",
    "cm_light = mpl.colors.ListedColormap(['#FFB0A0', '#A0B0FF'])\n",
    "cm_dark = mpl.colors.ListedColormap(['g', 'r'])\n",
    "\n",
    "\n",
    "plt.pcolormesh(x1, x2, grid_hat, cmap=cm_light)     # 预测值的显示\n",
    "\n",
    "plt.scatter(test_data[:, 0], test_data[:, 1], c=test_label.ravel(), edgecolors='w', s=10, cmap=cm_dark)  # 样本\n",
    "\n",
    "# plt.scatter(train_data[:, 0], train_data[:, 1], c=tra_label, edgecolors='k', s=1, cmap=cm_dark)  # 样本\n",
    "\n",
    "# plt.scatter(x_test[:, 0], x_test[:, 1], s=120, facecolors='none', zorder=10)  # 圈中测试集样本\n",
    "plt.xlabel(u'meanfun', fontsize=13)\n",
    "plt.ylabel(u'IQR', fontsize=13)\n",
    "plt.xlim(x1_min, x1_max)\n",
    "plt.ylim(x2_min, x2_max)\n",
    "plt.title(u'Gender Recognition', fontsize=15)\n",
    "# plt.grid()\n",
    "plt.show()\n",
    "plt.close()"
   ]
  },
  {
   "cell_type": "code",
   "execution_count": null,
   "metadata": {},
   "outputs": [],
   "source": []
  },
  {
   "cell_type": "code",
   "execution_count": 15,
   "metadata": {},
   "outputs": [],
   "source": [
    "# import numpy as np\n",
    "# import matplotlib.pyplot as plt\n",
    "# from sklearn import metrics\n",
    "\n",
    "# y = test_label.ravel()\n",
    "\n",
    "# print(y)\n",
    "# # scores = np.array([0.1, 0.4, 0.35, 0.8])\n",
    "# scores = np.max(classifier.predict_proba(test_data_), axis=1) # 测试集的预测标签 \n",
    "# # scores = np.array(scores) * np.array(y)\n",
    "# # print(scores)\n",
    "\n",
    "# fpr, tpr, thresholds = metrics.roc_curve(y, scores, pos_label=2)\n",
    "# plt.plot(fpr,tpr)\n",
    "# # plt.close()"
   ]
  },
  {
   "cell_type": "code",
   "execution_count": 16,
   "metadata": {},
   "outputs": [
    {
     "data": {
      "text/plain": [
       "array([[9.94310575e-01, 5.68942472e-03],\n",
       "       [9.99996826e-01, 3.17368513e-06],\n",
       "       [9.58644056e-01, 4.13559437e-02],\n",
       "       ...,\n",
       "       [6.87649861e-01, 3.12350139e-01],\n",
       "       [6.32554203e-03, 9.93674458e-01],\n",
       "       [9.98409572e-01, 1.59042827e-03]])"
      ]
     },
     "execution_count": 16,
     "metadata": {},
     "output_type": "execute_result"
    }
   ],
   "source": [
    "classifier.predict_proba(train_data_)"
   ]
  },
  {
   "cell_type": "code",
   "execution_count": 17,
   "metadata": {},
   "outputs": [],
   "source": [
    "sav_y = test_label.ravel()\n",
    "sav_score = classifier.predict_proba(test_data_)[:, 1]\n",
    "np.save(\"../gen_data/1.npy\",sav_y)\n",
    "np.save(\"../gen_data/1s.npy\",sav_score)"
   ]
  },
  {
   "cell_type": "code",
   "execution_count": 19,
   "metadata": {},
   "outputs": [
    {
     "name": "stdout",
     "output_type": "stream",
     "text": [
      "AUC: 0.9917002537692193\n"
     ]
    },
    {
     "data": {
      "image/png": "[encoded data removed]",
      "text/plain": [
       "<Figure size 384x384 with 1 Axes>"
      ]
     },
     "metadata": {
      "needs_background": "light"
     },
     "output_type": "display_data"
    }
   ],
   "source": [
    "import numpy as np\n",
    "from sklearn import metrics\n",
    "from sklearn.metrics import auc\n",
    "\n",
    "\n",
    "model=np.array(['logistic'])   # 麻烦大哥把几个模型的名字补进去\n",
    "fig, ax = plt.subplots(1, 1, dpi=128, figsize=(3, 3))\n",
    "line_color = [\"indianred\", \"steelblue\", \"green\", \"orange\", \"mediumpurple\", \"darkviolet\", \"gold\", \"royalblue\", \"pink\"]\n",
    "\n",
    "for i in range(0, model.shape[0]):\n",
    "    y = test_label.ravel()\n",
    "#     scores = np.max(classifier.predict_proba(train_data_), axis=1)\n",
    "#     scores = train_hat[:,1]   # 只取 true\n",
    "    scores = classifier.predict_proba(test_data_)[:, 1]\n",
    "    fpr, tpr, thresholds = metrics.roc_curve(y, scores)\n",
    "    # print(fpr)\n",
    "    # print(tpr)\n",
    "    ax.plot(fpr, tpr, color=line_color[i], label=model[i])\n",
    "    ax.legend()\n",
    "    AUC = auc(fpr, tpr) \n",
    "    print('AUC: ' + str(AUC))"
   ]
  },
  {
   "cell_type": "code",
   "execution_count": 24,
   "metadata": {},
   "outputs": [],
   "source": [
    "npy_path = \"../gen_data/0.npy\"\n",
    "len(npy_path)\n",
    "d = 1\n",
    "# npy_path[12] = str(1)\n",
    "npy_path = npy_path[:12] + str(1) +npy_path[13:]"
   ]
  },
  {
   "cell_type": "code",
   "execution_count": 25,
   "metadata": {},
   "outputs": [
    {
     "data": {
      "text/plain": [
       "'../gen_data/1.npy'"
      ]
     },
     "execution_count": 25,
     "metadata": {},
     "output_type": "execute_result"
    }
   ],
   "source": [
    "npy_path"
   ]
  },
  {
   "cell_type": "code",
   "execution_count": null,
   "metadata": {},
   "outputs": [],
   "source": []
  },
  {
   "cell_type": "code",
   "execution_count": 44,
   "metadata": {},
   "outputs": [
    {
     "name": "stdout",
     "output_type": "stream",
     "text": [
      "logistic            \t AUC:   \t0.9810817534955466\n",
      "logistic_with_kernel\t AUC:   \t0.9917002537692193\n",
      "DT                  \t AUC:   \t0.952779021744539\n",
      "DT_with_limit       \t AUC:   \t0.9788674926605961\n",
      "RF                  \t AUC:   \t0.9886500472707371\n",
      "RF_with_limit       \t AUC:   \t0.9929193411952032\n"
     ]
    },
    {
     "data": {
      "image/png": "[encoded data removed]",
      "text/plain": [
       "<Figure size 384x384 with 1 Axes>"
      ]
     },
     "metadata": {
      "needs_background": "light"
     },
     "output_type": "display_data"
    }
   ],
   "source": [
    "import numpy as np\n",
    "from sklearn import metrics\n",
    "from sklearn.metrics import auc\n",
    "\n",
    "npy_path = \"../gen_data/0.npy\"\n",
    "npy_s_path = \"../gen_data/0s.npy\"\n",
    "\n",
    "model=np.array(['logistic','logistic_with_kernel', 'DT', 'DT_with_limit', 'RF', 'RF_with_limit'])   # 麻烦大哥把几个模型的名字补进去\n",
    "fig, ax = plt.subplots(1, 1, dpi=128, figsize=(3, 3))\n",
    "line_color = [\"indianred\", \"steelblue\", \"green\", \"orange\", \"mediumpurple\", \"darkviolet\", \"gold\", \"royalblue\", \"pink\"]\n",
    "\n",
    "for i in range(0, model.shape[0]):\n",
    "#     y = test_label.ravel()\n",
    "# #     scores = np.max(classifier.predict_proba(train_data_), axis=1)\n",
    "# #     scores = train_hat[:,1]   # 只取 true\n",
    "#     scores = classifier.predict_proba(test_data_)[:, 1]\n",
    "    npy_path = npy_path[:12] + str(i) + npy_path[13:]\n",
    "    npy_s_path = npy_s_path[:12] + str(i) + npy_s_path[13:]\n",
    "    y = np.load(npy_path)\n",
    "    scores = np.load(npy_s_path)\n",
    "    \n",
    "    fpr, tpr, thresholds = metrics.roc_curve(y, scores)\n",
    "    # print(fpr)\n",
    "    # print(tpr)\n",
    "    ax.plot(fpr, tpr, color=line_color[i], label=model[i])\n",
    "    ax.legend()\n",
    "    AUC = auc(fpr, tpr) \n",
    "#     print('%s AUC: %s'  %(model[i],str(AUC)))\n",
    "    mat = \"{:20}\\t{:8}\\t{:10}\"\n",
    "    print(mat.format(model[i],\" AUC: \", str(AUC)))\n",
    "    \n",
    "    \n",
    "plt.xlabel(u'Specificity', fontsize=13)\n",
    "plt.ylabel(u'Sensitivity', fontsize=13)\n",
    "plt.title(u'ROC', fontsize=15)\n",
    "plt.savefig(\"filename.png\")"
   ]
  },
  {
   "cell_type": "code",
   "execution_count": 43,
   "metadata": {},
   "outputs": [
    {
     "name": "stdout",
     "output_type": "stream",
     "text": [
      "占4个长度     \t占8个长度               \t占12长度     \n"
     ]
    }
   ],
   "source": [
    "mat = \"{:10}\\t{:20}\\t{:10}\"\n",
    "print(mat.format(\"占4个长度\",\"占8个长度\", \"占12长度\"))"
   ]
  },
  {
   "cell_type": "code",
   "execution_count": null,
   "metadata": {},
   "outputs": [],
   "source": []
  }
 ],
 "metadata": {
  "kernelspec": {
   "display_name": "python3.6",
   "language": "python",
   "name": "python3.6"
  },
  "language_info": {
   "codemirror_mode": {
    "name": "ipython",
    "version": 3
   },
   "file_extension": ".py",
   "mimetype": "text/x-python",
   "name": "python",
   "nbconvert_exporter": "python",
   "pygments_lexer": "ipython3",
   "version": "3.6.0"
  }
 },
 "nbformat": 4,
 "nbformat_minor": 2
}
